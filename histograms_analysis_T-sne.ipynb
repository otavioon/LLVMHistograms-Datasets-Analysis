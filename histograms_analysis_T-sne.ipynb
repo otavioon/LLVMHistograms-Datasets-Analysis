{
 "cells": [
  {
   "cell_type": "code",
   "execution_count": null,
   "id": "d016c130-0317-4b84-b5b4-00b0194b2fd5",
   "metadata": {},
   "outputs": [],
   "source": [
    "!pip install umap-learn"
   ]
  },
  {
   "cell_type": "code",
   "execution_count": 10,
   "id": "6773b593-ebd0-4044-901b-128e1d6ac1de",
   "metadata": {},
   "outputs": [],
   "source": [
    "import sys\n",
    "import os\n",
    "import numpy as np\n",
    "import yaml as yl\n",
    "import matplotlib.pyplot as plt\n",
    "import argparse\n",
    "import glob\n",
    "import pandas as pd\n",
    "\n",
    "from typing import List, Tuple\n",
    "\n",
    "from sklearn.datasets import load_digits\n",
    "from sklearn.cluster import KMeans\n",
    "from sklearn import manifold\n",
    "from sklearn.preprocessing import StandardScaler\n",
    "\n",
    "%matplotlib inline"
   ]
  },
  {
   "cell_type": "code",
   "execution_count": null,
   "id": "f7c59394-1a22-472b-917d-8276e21b65f7",
   "metadata": {},
   "outputs": [],
   "source": [
    "def get_model(model_name: str, **kwargs):\n",
    "    LLE = partial(manifold.LocallyLinearEmbedding)\n",
    "    model_name = model_name.lower()\n",
    "    if model_name == \"umap\":\n",
    "        return UMAP(**kwargs)\n",
    "    elif model_name == \"lle\":\n",
    "        return LLE(method='standard', **kwargs)\n",
    "    elif model_name ==\"ltsa\":\n",
    "        return LLE(method='ltsa', **kwargs) \n",
    "    elif model_name == \"hlle\":\n",
    "        return LLE(method='hessian', **kwargs)\n",
    "    elif model_name == \"mlle\":\n",
    "        return LLE(method='modified', **kwargs)\n",
    "    elif model_name== \"isomap\":\n",
    "        return manifold.Isomap(**kwargs)\n",
    "    elif model_name == \"mds\":\n",
    "        return manifold.MDS(**kwargs)\n",
    "    elif model_name == \"se\":\n",
    "        return manifold.SpectralEmbedding(**kwargs)\n",
    "    elif model_name == \"t-sne\":\n",
    "        return manifold.TSNE(**kwargs)\n",
    "    raise ValueError(f\"Invalid method {model_name}\")"
   ]
  },
  {
   "cell_type": "code",
   "execution_count": 11,
   "id": "24b5d187-17f0-4485-9d8c-57a6234852c6",
   "metadata": {},
   "outputs": [],
   "source": [
    "def perform_manifold(model, data: np.ndarray, targets: np.ndarray, n_components: int = 2, scale: bool = True) -> Tuple[pd.DataFrame, float, float]:\n",
    "    # Scale\n",
    "    if scale:\n",
    "        data = StandardScaler().fit_transform(data)\n",
    "    \n",
    "    # Apply model on data\n",
    "    x = model.fit_transform(data)\n",
    "    principal_df = pd.DataFrame(data=x, columns=[f\"PC-{i+1}\" for i in range(n_components)])\n",
    "    # Append targets values\n",
    "    principal_df = pd.concat([principal_df, targets], axis=1)\n",
    "    \n",
    "    return principal_df"
   ]
  },
  {
   "cell_type": "code",
   "execution_count": 12,
   "id": "ed14fb9b-7be4-4360-abf3-5e8da309260c",
   "metadata": {},
   "outputs": [],
   "source": [
    "def plot_2_components(df: pd.DataFrame, n_classes: int, title: str) -> None:\n",
    "    \"\"\"Plot the 2D PCA\n",
    "    \n",
    "    Parameters\n",
    "    ----------\n",
    "    df : pd.DataFrame\n",
    "        Dataset with PCA for each sample (and targets in the 'class' column)\n",
    "    n_classes : int\n",
    "        Number of classes of the dataset\n",
    "    title: str\n",
    "        Title of the graph\n",
    "    \"\"\"\n",
    "    # Create figure\n",
    "    fig = plt.figure(figsize=(8,8))\n",
    "    ax = fig.add_subplot(1,1,1)\n",
    "    ax.set_xlabel('Principal Component 1', fontsize=15)\n",
    "    ax.set_ylabel('Principal Component 2', fontsize=15)\n",
    "    ax.set_title(title, fontsize=14)\n",
    "    # Set colors\n",
    "    colors = np.array([\n",
    "        \"red\",\"green\",\"blue\",\"yellow\",\"pink\",\"black\",\"orange\",\"purple\",\n",
    "        \"beige\",\"brown\",\"gray\",\"cyan\",\"magenta\"])[:n_classes]\n",
    "    # Name the targets\n",
    "    targets = [i for i in range(n_classes)]\n",
    "    # Plot a scatter plot \n",
    "    for target, color in zip(targets, colors):\n",
    "        indicesToKeep = df[\"class\"] == target\n",
    "        ax.scatter(df.loc[indicesToKeep, 'PC-1'], df.loc[indicesToKeep, 'PC-2'], c=color, s=50)\n",
    "\n",
    "    ax.legend(targets)\n",
    "    ax.grid()\n",
    "    plt.show()"
   ]
  },
  {
   "cell_type": "code",
   "execution_count": 13,
   "id": "1d32f99d-1055-4cfa-96fe-a69e0843d2ac",
   "metadata": {},
   "outputs": [],
   "source": [
    "def perform_experiment_tsne(df: pd.DataFrame, title: str, n_components: int = 2, init: str = 'pca', random_state: int = 0):\n",
    "    \"\"\"Extract PCA from a dataset and plot it\n",
    "    Parameters\n",
    "    ----------\n",
    "    df : pd.DataFrame\n",
    "        Dataset to perform PCA\n",
    "    title: str\n",
    "        Title of the graph  \n",
    "    \"\"\"\n",
    "    # Number of features\n",
    "    features = [str(i) for i in range(65)]\n",
    "    x = df.loc[:, features].values\n",
    "    y = df.loc[:, ['class']]\n",
    "    print(f\"Shape of samples: {x.shape}\")\n",
    "    print(f\"Shape of targets: {y.shape}\")\n",
    "\n",
    "    \n",
    "    model = get_model(\"t-sne\", n_components=n_components, init=init, random_state=random_state)\n",
    "    rincipal_df = perform_tsne(x, y)\n",
    "    #print(f\"Explained variance: {exp_var}\")\n",
    "    #print(f\"Explained variance ratio (by component): {exp_var_ratio}\")\n",
    "    #print(f\"Explained variance ratio (sum): {exp_var_ratio.cumsum()[-1]:.3f}%\")\n",
    "\n",
    "    # Plot it\n",
    "    #c_min, c_max = int(y.min()), int(y.max())\n",
    "    #plot_2components_PCA(principal_df, c_max+1, title)\n",
    "    return principal_df"
   ]
  },
  {
   "cell_type": "markdown",
   "id": "fe276061-2001-420f-b8bd-63f2bfdbd49a",
   "metadata": {},
   "source": [
    "## AnghaBestSeqsSBLP2021"
   ]
  },
  {
   "cell_type": "code",
   "execution_count": 14,
   "id": "955fb695-514e-458b-8021-ba3e969a1222",
   "metadata": {},
   "outputs": [
    {
     "data": {
      "text/html": [
       "<div>\n",
       "<style scoped>\n",
       "    .dataframe tbody tr th:only-of-type {\n",
       "        vertical-align: middle;\n",
       "    }\n",
       "\n",
       "    .dataframe tbody tr th {\n",
       "        vertical-align: top;\n",
       "    }\n",
       "\n",
       "    .dataframe thead th {\n",
       "        text-align: right;\n",
       "    }\n",
       "</style>\n",
       "<table border=\"1\" class=\"dataframe\">\n",
       "  <thead>\n",
       "    <tr style=\"text-align: right;\">\n",
       "      <th></th>\n",
       "      <th>Unnamed: 0</th>\n",
       "      <th>name</th>\n",
       "      <th>class</th>\n",
       "      <th>0</th>\n",
       "      <th>1</th>\n",
       "      <th>2</th>\n",
       "      <th>3</th>\n",
       "      <th>4</th>\n",
       "      <th>5</th>\n",
       "      <th>6</th>\n",
       "      <th>...</th>\n",
       "      <th>55</th>\n",
       "      <th>56</th>\n",
       "      <th>57</th>\n",
       "      <th>58</th>\n",
       "      <th>59</th>\n",
       "      <th>60</th>\n",
       "      <th>61</th>\n",
       "      <th>62</th>\n",
       "      <th>63</th>\n",
       "      <th>64</th>\n",
       "    </tr>\n",
       "  </thead>\n",
       "  <tbody>\n",
       "    <tr>\n",
       "      <th>2495</th>\n",
       "      <td>2495</td>\n",
       "      <td>extr_libipw_wx.c_libipw_translate_scan</td>\n",
       "      <td>2</td>\n",
       "      <td>1.0</td>\n",
       "      <td>52.0</td>\n",
       "      <td>0.0</td>\n",
       "      <td>0.0</td>\n",
       "      <td>0.0</td>\n",
       "      <td>0.0</td>\n",
       "      <td>0.0</td>\n",
       "      <td>...</td>\n",
       "      <td>21.0</td>\n",
       "      <td>0.0</td>\n",
       "      <td>0.0</td>\n",
       "      <td>0.0</td>\n",
       "      <td>0.0</td>\n",
       "      <td>37.0</td>\n",
       "      <td>0.0</td>\n",
       "      <td>0.0</td>\n",
       "      <td>0.0</td>\n",
       "      <td>0.0</td>\n",
       "    </tr>\n",
       "    <tr>\n",
       "      <th>2496</th>\n",
       "      <td>2496</td>\n",
       "      <td>extr_render.c_test_formats</td>\n",
       "      <td>2</td>\n",
       "      <td>1.0</td>\n",
       "      <td>61.0</td>\n",
       "      <td>0.0</td>\n",
       "      <td>0.0</td>\n",
       "      <td>0.0</td>\n",
       "      <td>0.0</td>\n",
       "      <td>0.0</td>\n",
       "      <td>...</td>\n",
       "      <td>51.0</td>\n",
       "      <td>0.0</td>\n",
       "      <td>15.0</td>\n",
       "      <td>2.0</td>\n",
       "      <td>0.0</td>\n",
       "      <td>22.0</td>\n",
       "      <td>0.0</td>\n",
       "      <td>0.0</td>\n",
       "      <td>0.0</td>\n",
       "      <td>0.0</td>\n",
       "    </tr>\n",
       "    <tr>\n",
       "      <th>2497</th>\n",
       "      <td>2497</td>\n",
       "      <td>extr_c-valprint.c_c_val_print</td>\n",
       "      <td>2</td>\n",
       "      <td>1.0</td>\n",
       "      <td>153.0</td>\n",
       "      <td>1.0</td>\n",
       "      <td>0.0</td>\n",
       "      <td>0.0</td>\n",
       "      <td>0.0</td>\n",
       "      <td>0.0</td>\n",
       "      <td>...</td>\n",
       "      <td>63.0</td>\n",
       "      <td>0.0</td>\n",
       "      <td>4.0</td>\n",
       "      <td>0.0</td>\n",
       "      <td>0.0</td>\n",
       "      <td>135.0</td>\n",
       "      <td>0.0</td>\n",
       "      <td>0.0</td>\n",
       "      <td>0.0</td>\n",
       "      <td>0.0</td>\n",
       "    </tr>\n",
       "    <tr>\n",
       "      <th>2498</th>\n",
       "      <td>2498</td>\n",
       "      <td>extr_sor.c_tegra_sor_edp_enable</td>\n",
       "      <td>2</td>\n",
       "      <td>1.0</td>\n",
       "      <td>63.0</td>\n",
       "      <td>0.0</td>\n",
       "      <td>0.0</td>\n",
       "      <td>0.0</td>\n",
       "      <td>0.0</td>\n",
       "      <td>0.0</td>\n",
       "      <td>...</td>\n",
       "      <td>25.0</td>\n",
       "      <td>0.0</td>\n",
       "      <td>0.0</td>\n",
       "      <td>0.0</td>\n",
       "      <td>0.0</td>\n",
       "      <td>110.0</td>\n",
       "      <td>0.0</td>\n",
       "      <td>0.0</td>\n",
       "      <td>0.0</td>\n",
       "      <td>0.0</td>\n",
       "    </tr>\n",
       "    <tr>\n",
       "      <th>2499</th>\n",
       "      <td>2499</td>\n",
       "      <td>extr_hns_roce_hw_v2.c_hns_roce_v2_query_qp</td>\n",
       "      <td>2</td>\n",
       "      <td>1.0</td>\n",
       "      <td>16.0</td>\n",
       "      <td>0.0</td>\n",
       "      <td>0.0</td>\n",
       "      <td>0.0</td>\n",
       "      <td>0.0</td>\n",
       "      <td>0.0</td>\n",
       "      <td>...</td>\n",
       "      <td>7.0</td>\n",
       "      <td>0.0</td>\n",
       "      <td>0.0</td>\n",
       "      <td>0.0</td>\n",
       "      <td>0.0</td>\n",
       "      <td>34.0</td>\n",
       "      <td>0.0</td>\n",
       "      <td>0.0</td>\n",
       "      <td>0.0</td>\n",
       "      <td>0.0</td>\n",
       "    </tr>\n",
       "  </tbody>\n",
       "</table>\n",
       "<p>5 rows × 68 columns</p>\n",
       "</div>"
      ],
      "text/plain": [
       "      Unnamed: 0                                        name  class    0  \\\n",
       "2495        2495      extr_libipw_wx.c_libipw_translate_scan      2  1.0   \n",
       "2496        2496                  extr_render.c_test_formats      2  1.0   \n",
       "2497        2497               extr_c-valprint.c_c_val_print      2  1.0   \n",
       "2498        2498             extr_sor.c_tegra_sor_edp_enable      2  1.0   \n",
       "2499        2499  extr_hns_roce_hw_v2.c_hns_roce_v2_query_qp      2  1.0   \n",
       "\n",
       "          1    2    3    4    5    6  ...    55   56    57   58   59     60  \\\n",
       "2495   52.0  0.0  0.0  0.0  0.0  0.0  ...  21.0  0.0   0.0  0.0  0.0   37.0   \n",
       "2496   61.0  0.0  0.0  0.0  0.0  0.0  ...  51.0  0.0  15.0  2.0  0.0   22.0   \n",
       "2497  153.0  1.0  0.0  0.0  0.0  0.0  ...  63.0  0.0   4.0  0.0  0.0  135.0   \n",
       "2498   63.0  0.0  0.0  0.0  0.0  0.0  ...  25.0  0.0   0.0  0.0  0.0  110.0   \n",
       "2499   16.0  0.0  0.0  0.0  0.0  0.0  ...   7.0  0.0   0.0  0.0  0.0   34.0   \n",
       "\n",
       "       61   62   63   64  \n",
       "2495  0.0  0.0  0.0  0.0  \n",
       "2496  0.0  0.0  0.0  0.0  \n",
       "2497  0.0  0.0  0.0  0.0  \n",
       "2498  0.0  0.0  0.0  0.0  \n",
       "2499  0.0  0.0  0.0  0.0  \n",
       "\n",
       "[5 rows x 68 columns]"
      ]
     },
     "execution_count": 14,
     "metadata": {},
     "output_type": "execute_result"
    }
   ],
   "source": [
    "filename = \"AnghaBestSeqsSBLP2021.csv\"\n",
    "df = pd.read_csv(filename)\n",
    "df.tail()"
   ]
  },
  {
   "cell_type": "code",
   "execution_count": 16,
   "id": "c96c6ef2-fcb1-41fd-a768-2bf5da1b3fc5",
   "metadata": {},
   "outputs": [
    {
     "name": "stdout",
     "output_type": "stream",
     "text": [
      "Shape of samples: (2500, 65)\n",
      "Shape of targets: (2500, 1)\n",
      "            PC-1       PC-2  class\n",
      "0     -27.608915  14.112516      3\n",
      "1     118.877090  -5.304456      3\n",
      "2      -8.395719 -46.136803      3\n",
      "3    -130.291016  -5.106524      3\n",
      "4     -24.492390   4.639995      3\n",
      "...          ...        ...    ...\n",
      "2495  103.445854  28.449652      2\n",
      "2496  -38.773670   5.028303      2\n",
      "2497   98.184425 -36.573742      2\n",
      "2498  278.387695  -2.411278      2\n",
      "2499  -37.819492  47.512714      2\n",
      "\n",
      "[2500 rows x 3 columns]\n"
     ]
    }
   ],
   "source": [
    "principal_df = perform_experiment_tsne(df, \"t-sne\")"
   ]
  },
  {
   "cell_type": "code",
   "execution_count": null,
   "id": "fb281d68-0f2a-4baa-9eeb-8c40ee7ddf2e",
   "metadata": {},
   "outputs": [],
   "source": [
    "perform_experiment_pca(df, title=\"AnghaBestSeqsSBLP2021\")"
   ]
  },
  {
   "cell_type": "markdown",
   "id": "e48e11c3-0e98-46d7-844a-aa02456603b6",
   "metadata": {},
   "source": [
    "## AnghaLoops"
   ]
  },
  {
   "cell_type": "code",
   "execution_count": null,
   "id": "bea05e26-9f44-4d8d-bcff-0e62312ff0e8",
   "metadata": {},
   "outputs": [],
   "source": [
    "filename = \"AnghaLoops.csv\"\n",
    "df = pd.read_csv(filename)\n",
    "df.tail()"
   ]
  },
  {
   "cell_type": "code",
   "execution_count": null,
   "id": "809a06af-6757-49c3-9857-1cc9e621ea02",
   "metadata": {},
   "outputs": [],
   "source": [
    "perform_experiment_pca(df, title=\"AnghaLoops\")"
   ]
  },
  {
   "cell_type": "markdown",
   "id": "99d11144-7205-4c0f-8ba3-3a408bfccc1c",
   "metadata": {},
   "source": [
    "## CodeNetBestSeqsSBLP2021_merge_classes"
   ]
  },
  {
   "cell_type": "code",
   "execution_count": null,
   "id": "095f238f-a7fd-438a-9394-a5952ca40cc9",
   "metadata": {},
   "outputs": [],
   "source": [
    "filename = \"CodeNetBestSeqsSBLP2021_merge_classes.csv\"\n",
    "df = pd.read_csv(filename)\n",
    "df.tail()"
   ]
  },
  {
   "cell_type": "code",
   "execution_count": null,
   "id": "4f0247dd-c6b5-4ae3-bc29-7d5c193cb52a",
   "metadata": {},
   "outputs": [],
   "source": [
    "perform_experiment_pca(df, title=\"CodeNetBestSeqsSBLP2021_merge_classes\")"
   ]
  },
  {
   "cell_type": "markdown",
   "id": "3a805134-3306-4458-b9cf-e9643095f25f",
   "metadata": {},
   "source": [
    "## CodeNetBestSeqsSBLP2021"
   ]
  },
  {
   "cell_type": "code",
   "execution_count": null,
   "id": "12922ff8-e541-43bd-a6c5-3e6dd0c21fb4",
   "metadata": {},
   "outputs": [],
   "source": [
    "filename = \"CodeNetBestSeqsSBLP2021.csv\"\n",
    "df = pd.read_csv(filename)\n",
    "df.tail()"
   ]
  },
  {
   "cell_type": "code",
   "execution_count": null,
   "id": "2d06ffb8-f040-4382-a62d-7aa717359e3b",
   "metadata": {},
   "outputs": [],
   "source": [
    "perform_experiment_pca(df, title=\"CodeNetBestSeqsSBLP2021\")"
   ]
  },
  {
   "cell_type": "markdown",
   "id": "e0077bed-f9c1-4d66-a41a-de148c789225",
   "metadata": {},
   "source": [
    "## PCA With POJ-5"
   ]
  },
  {
   "cell_type": "code",
   "execution_count": null,
   "id": "debe7811-7ce2-422f-b413-a1c6803dcbc3",
   "metadata": {},
   "outputs": [],
   "source": [
    "filename = \"POJ-5.csv\"\n",
    "df = pd.read_csv(filename)\n",
    "df.tail()"
   ]
  },
  {
   "cell_type": "code",
   "execution_count": null,
   "id": "f5f379f4-14ff-49c7-806f-7a751ff31600",
   "metadata": {},
   "outputs": [],
   "source": [
    "perform_experiment_pca(df, title=\"POJ-5\")"
   ]
  },
  {
   "cell_type": "markdown",
   "id": "d74a8c90-6639-4421-b653-6fc6c6195b0b",
   "metadata": {},
   "source": [
    "## POJBestSeqsSBLP2021_merge_2classes"
   ]
  },
  {
   "cell_type": "code",
   "execution_count": null,
   "id": "15c782d2-7314-40ce-85d1-bdf669ac7310",
   "metadata": {},
   "outputs": [],
   "source": [
    "filename = \"POJBestSeqsSBLP2021_merge_2classes.csv\"\n",
    "df = pd.read_csv(filename)\n",
    "df.tail()"
   ]
  },
  {
   "cell_type": "code",
   "execution_count": null,
   "id": "4c9997f9-91db-4156-b370-df73ea957b4c",
   "metadata": {},
   "outputs": [],
   "source": [
    "perform_experiment_pca(df, title=\"POJBestSeqsSBLP2021_merge_2classes\")"
   ]
  },
  {
   "cell_type": "markdown",
   "id": "74630f00-f1c9-44b9-9b70-ae4cb18cb5a6",
   "metadata": {},
   "source": [
    "## POJBestSeqsSBLP2021_merge_Nclasses"
   ]
  },
  {
   "cell_type": "code",
   "execution_count": null,
   "id": "bf7b9ade-fc4f-4f79-ad5e-974bfb7012f8",
   "metadata": {},
   "outputs": [],
   "source": [
    "filename = \"POJBestSeqsSBLP2021_merge_Nclasses.csv\"\n",
    "df = pd.read_csv(filename)\n",
    "df.tail()"
   ]
  },
  {
   "cell_type": "code",
   "execution_count": null,
   "id": "df0dd18d-c3fa-42b3-a8a3-f4995b7b8910",
   "metadata": {},
   "outputs": [],
   "source": [
    "perform_experiment_pca(df, title=\"POJBestSeqsSBLP2021_merge_Nclasses\")"
   ]
  }
 ],
 "metadata": {
  "kernelspec": {
   "display_name": "Python 3",
   "language": "python",
   "name": "python3"
  },
  "language_info": {
   "codemirror_mode": {
    "name": "ipython",
    "version": 3
   },
   "file_extension": ".py",
   "mimetype": "text/x-python",
   "name": "python",
   "nbconvert_exporter": "python",
   "pygments_lexer": "ipython3",
   "version": "3.6.9"
  }
 },
 "nbformat": 4,
 "nbformat_minor": 5
}
